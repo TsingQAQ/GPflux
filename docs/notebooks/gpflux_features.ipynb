{
 "cells": [
  {
   "cell_type": "markdown",
   "id": "43f22d66",
   "metadata": {
    "cell_marker": "\"\"\""
   },
   "source": [
    "# Why GPflux is a modern (deep) GP library\n",
    "\n",
    "In this notebook we go over some of the features that make GPflux a powerful, deep-learning-style GP library. We demonstrate the out-of-the-box support for monitoring during the course of optimisation, adapting the learning rate, and saving & serving (deep) GP models."
   ]
  },
  {
   "cell_type": "markdown",
   "id": "96d5f781",
   "metadata": {
    "cell_marker": "\"\"\""
   },
   "source": [
    "## Setting up the dataset and model\n",
    "\n",
    "### Motorcycle: a toy one-dimensional dataset"
   ]
  },
  {
   "cell_type": "code",
   "execution_count": 1,
   "id": "24c0e8b3",
   "metadata": {
    "execution": {
     "iopub.execute_input": "2021-10-07T10:00:25.817954Z",
     "iopub.status.busy": "2021-10-07T10:00:25.817400Z",
     "iopub.status.idle": "2021-10-07T10:00:27.325524Z",
     "shell.execute_reply": "2021-10-07T10:00:27.325899Z"
    }
   },
   "outputs": [
    {
     "name": "stderr",
     "output_type": "stream",
     "text": [
      "2021-10-07 10:00:26.357636: W tensorflow/stream_executor/platform/default/dso_loader.cc:64] Could not load dynamic library 'libcudart.so.11.0'; dlerror: libcudart.so.11.0: cannot open shared object file: No such file or directory; LD_LIBRARY_PATH: /opt/hostedtoolcache/Python/3.7.12/x64/lib\n",
      "2021-10-07 10:00:26.357667: I tensorflow/stream_executor/cuda/cudart_stub.cc:29] Ignore above cudart dlerror if you do not have a GPU set up on your machine.\n"
     ]
    }
   ],
   "source": [
    "import matplotlib.pyplot as plt\n",
    "import numpy as np\n",
    "import pandas as pd\n",
    "import tensorflow as tf\n",
    "\n",
    "tf.keras.backend.set_floatx(\"float64\")  # we want to carry out GP calculations in 64 bit\n",
    "tf.get_logger().setLevel(\"INFO\")"
   ]
  },
  {
   "cell_type": "code",
   "execution_count": 2,
   "id": "632f19c8",
   "metadata": {
    "execution": {
     "iopub.execute_input": "2021-10-07T10:00:27.331650Z",
     "iopub.status.busy": "2021-10-07T10:00:27.328202Z",
     "iopub.status.idle": "2021-10-07T10:00:27.530587Z",
     "shell.execute_reply": "2021-10-07T10:00:27.530175Z"
    }
   },
   "outputs": [
    {
     "data": {
      "text/plain": [
       "Text(0, 0.5, 'Acceleration')"
      ]
     },
     "execution_count": 2,
     "metadata": {},
     "output_type": "execute_result"
    },
    {
     "data": {
      "image/png": "[encoded data removed]",
      "text/plain": [
       "<Figure size 432x288 with 1 Axes>"
      ]
     },
     "metadata": {
      "needs_background": "light"
     },
     "output_type": "display_data"
    }
   ],
   "source": [
    "def motorcycle_data():\n",
    "    \"\"\"\n",
    "    The motorcycle dataset where the targets are normalised to zero mean and unit variance.\n",
    "    Returns a tuple of input features with shape [N, 1] and corresponding targets with shape [N, 1].\n",
    "    \"\"\"\n",
    "    df = pd.read_csv(\"./data/motor.csv\", index_col=0)\n",
    "    X, Y = df[\"times\"].values.reshape(-1, 1), df[\"accel\"].values.reshape(-1, 1)\n",
    "    Y = (Y - Y.mean()) / Y.std()\n",
    "    return X, Y\n",
    "\n",
    "\n",
    "X, Y = motorcycle_data()\n",
    "plt.plot(X, Y, \"kx\")\n",
    "plt.xlabel(\"time\")\n",
    "plt.ylabel(\"Acceleration\")"
   ]
  },
  {
   "cell_type": "markdown",
   "id": "cd9d582d",
   "metadata": {
    "cell_marker": "\"\"\""
   },
   "source": [
    "### Two-layer deep GP\n",
    "\n",
    "To keep this notebook focussed we are going to use a predefined deep GP architecture `gpflux.architectures.build_constant_input_dim_deep_gp` for creating our simple two-layer model."
   ]
  },
  {
   "cell_type": "code",
   "execution_count": 3,
   "id": "0e9314f9",
   "metadata": {
    "execution": {
     "iopub.execute_input": "2021-10-07T10:00:27.535455Z",
     "iopub.status.busy": "2021-10-07T10:00:27.534626Z",
     "iopub.status.idle": "2021-10-07T10:00:27.996392Z",
     "shell.execute_reply": "2021-10-07T10:00:27.996766Z"
    }
   },
   "outputs": [
    {
     "name": "stderr",
     "output_type": "stream",
     "text": [
      "2021-10-07 10:00:27.836132: W tensorflow/stream_executor/platform/default/dso_loader.cc:64] Could not load dynamic library 'libcuda.so.1'; dlerror: libcuda.so.1: cannot open shared object file: No such file or directory; LD_LIBRARY_PATH: /opt/hostedtoolcache/Python/3.7.12/x64/lib\n",
      "2021-10-07 10:00:27.836167: W tensorflow/stream_executor/cuda/cuda_driver.cc:326] failed call to cuInit: UNKNOWN ERROR (303)\n",
      "2021-10-07 10:00:27.836186: I tensorflow/stream_executor/cuda/cuda_diagnostics.cc:156] kernel driver does not appear to be running on this host (fv-az93-857): /proc/driver/nvidia/version does not exist\n",
      "2021-10-07 10:00:27.836457: I tensorflow/core/platform/cpu_feature_guard.cc:142] This TensorFlow binary is optimized with oneAPI Deep Neural Network Library (oneDNN) to use the following CPU instructions in performance-critical operations:  AVX2 AVX512F FMA\n",
      "To enable them in other operations, rebuild TensorFlow with the appropriate compiler flags.\n"
     ]
    }
   ],
   "source": [
    "import gpflux\n",
    "\n",
    "from gpflux.architectures import Config, build_constant_input_dim_deep_gp\n",
    "from gpflux.models import DeepGP\n",
    "\n",
    "config = Config(\n",
    "    num_inducing=25, inner_layer_qsqrt_factor=1e-5, likelihood_noise_variance=1e-2, whiten=True\n",
    ")\n",
    "deep_gp: DeepGP = build_constant_input_dim_deep_gp(X, num_layers=2, config=config)"
   ]
  },
  {
   "cell_type": "markdown",
   "id": "08f22bd0",
   "metadata": {
    "cell_marker": "\"\"\""
   },
   "source": [
    "## Training: mini-batching, callbacks, checkpoints and monitoring\n",
    "\n",
    "When training a model, GPflux takes care of minibatching the dataset and accepts a range of callbacks that make it very simple to, for example, modify the learning rate or monitor the optimisation. "
   ]
  },
  {
   "cell_type": "code",
   "execution_count": 4,
   "id": "cbcb8187",
   "metadata": {
    "execution": {
     "iopub.execute_input": "2021-10-07T10:00:28.003186Z",
     "iopub.status.busy": "2021-10-07T10:00:28.002731Z",
     "iopub.status.idle": "2021-10-07T10:00:42.811455Z",
     "shell.execute_reply": "2021-10-07T10:00:42.810971Z"
    }
   },
   "outputs": [
    {
     "name": "stdout",
     "output_type": "stream",
     "text": [
      "WARNING:tensorflow:From /opt/hostedtoolcache/Python/3.7.12/x64/lib/python3.7/site-packages/tensorflow_probability/python/distributions/distribution.py:346: calling MultivariateNormalDiag.__init__ (from tensorflow_probability.python.distributions.mvn_diag) with scale_identity_multiplier is deprecated and will be removed after 2020-01-01.\n",
      "Instructions for updating:\n",
      "`scale_identity_multiplier` is deprecated; please combine it into `scale_diag` directly instead.\n"
     ]
    },
    {
     "name": "stderr",
     "output_type": "stream",
     "text": [
      "2021-10-07 10:00:28.275714: W tensorflow/python/util/util.cc:348] Sets are not currently considered sequences, but this may change in the future, so consider avoiding using them.\n"
     ]
    },
    {
     "name": "stdout",
     "output_type": "stream",
     "text": [
      "WARNING:tensorflow:Model failed to serialize as JSON. Ignoring... Cannot pickle Tensor -- its value is not known statically: Tensor(\"gp_0/Identity_2:0\", shape=(), dtype=float64).\n"
     ]
    },
    {
     "name": "stderr",
     "output_type": "stream",
     "text": [
      "2021-10-07 10:00:28.756178: I tensorflow/core/profiler/lib/profiler_session.cc:126] Profiler session initializing.\n",
      "2021-10-07 10:00:28.756212: I tensorflow/core/profiler/lib/profiler_session.cc:141] Profiler session started.\n",
      "2021-10-07 10:00:28.756258: I tensorflow/core/profiler/lib/profiler_session.cc:159] Profiler session tear down.\n",
      "2021-10-07 10:00:28.803527: I tensorflow/compiler/mlir/mlir_graph_optimization_pass.cc:176] None of the MLIR Optimization Passes are enabled (registered 2)\n",
      "2021-10-07 10:00:28.803848: I tensorflow/core/platform/profile_utils/cpu_utils.cc:114] CPU Frequency: 2593905000 Hz\n"
     ]
    },
    {
     "name": "stderr",
     "output_type": "stream",
     "text": [
      "2021-10-07 10:00:32.669888: I tensorflow/core/profiler/lib/profiler_session.cc:126] Profiler session initializing.\n",
      "2021-10-07 10:00:32.669928: I tensorflow/core/profiler/lib/profiler_session.cc:141] Profiler session started.\n",
      "2021-10-07 10:00:32.674047: I tensorflow/core/profiler/lib/profiler_session.cc:66] Profiler session collecting data.\n",
      "2021-10-07 10:00:32.677012: I tensorflow/core/profiler/lib/profiler_session.cc:159] Profiler session tear down.\n",
      "2021-10-07 10:00:32.681673: I tensorflow/core/profiler/rpc/client/save_profile.cc:137] Creating directory: logs/train/plugins/profile/2021_10_07_10_00_32\n",
      "2021-10-07 10:00:32.684556: I tensorflow/core/profiler/rpc/client/save_profile.cc:143] Dumped gzipped tool data for trace.json.gz to logs/train/plugins/profile/2021_10_07_10_00_32/fv-az93-857.trace.json.gz\n",
      "2021-10-07 10:00:32.690094: I tensorflow/core/profiler/rpc/client/save_profile.cc:137] Creating directory: logs/train/plugins/profile/2021_10_07_10_00_32\n",
      "2021-10-07 10:00:32.690196: I tensorflow/core/profiler/rpc/client/save_profile.cc:143] Dumped gzipped tool data for memory_profile.json.gz to logs/train/plugins/profile/2021_10_07_10_00_32/fv-az93-857.memory_profile.json.gz\n",
      "2021-10-07 10:00:32.690678: I tensorflow/core/profiler/rpc/client/capture_profile.cc:251] Creating directory: logs/train/plugins/profile/2021_10_07_10_00_32Dumped tool data for xplane.pb to logs/train/plugins/profile/2021_10_07_10_00_32/fv-az93-857.xplane.pb\n",
      "Dumped tool data for overview_page.pb to logs/train/plugins/profile/2021_10_07_10_00_32/fv-az93-857.overview_page.pb\n",
      "Dumped tool data for input_pipeline.pb to logs/train/plugins/profile/2021_10_07_10_00_32/fv-az93-857.input_pipeline.pb\n",
      "Dumped tool data for tensorflow_stats.pb to logs/train/plugins/profile/2021_10_07_10_00_32/fv-az93-857.tensorflow_stats.pb\n",
      "Dumped tool data for kernel_stats.pb to logs/train/plugins/profile/2021_10_07_10_00_32/fv-az93-857.kernel_stats.pb\n",
      "\n"
     ]
    }
   ],
   "source": [
    "# From the `DeepGP` model we instantiate a training model which is a `tf.keras.Model`\n",
    "training_model: tf.keras.Model = deep_gp.as_training_model()\n",
    "\n",
    "# Following the Keras procedure we need to compile and pass a optimizer,\n",
    "# before fitting the model to data\n",
    "training_model.compile(optimizer=tf.optimizers.Adam(learning_rate=0.01))\n",
    "\n",
    "callbacks = [\n",
    "    # Create callback that reduces the learning rate every time the ELBO plateaus\n",
    "    tf.keras.callbacks.ReduceLROnPlateau(\"loss\", factor=0.95, patience=3, min_lr=1e-6, verbose=0),\n",
    "    # Create a callback that writes logs (e.g., hyperparameters, KLs, etc.) to TensorBoard\n",
    "    gpflux.callbacks.TensorBoard(),\n",
    "    # Create a callback that saves the model's weights\n",
    "    tf.keras.callbacks.ModelCheckpoint(filepath=\"ckpts/\", save_weights_only=True, verbose=0),\n",
    "]\n",
    "\n",
    "history = training_model.fit(\n",
    "    {\"inputs\": X, \"targets\": Y},\n",
    "    batch_size=12,\n",
    "    epochs=200,\n",
    "    callbacks=callbacks,\n",
    "    verbose=0,\n",
    ")"
   ]
  },
  {
   "cell_type": "markdown",
   "id": "9f2553f1",
   "metadata": {
    "cell_marker": "\"\"\""
   },
   "source": [
    "The call to fit() returns a `history` object that contains information like the loss and the learning rate over the course of optimisation."
   ]
  },
  {
   "cell_type": "code",
   "execution_count": 5,
   "id": "9f59be68",
   "metadata": {
    "execution": {
     "iopub.execute_input": "2021-10-07T10:00:42.850187Z",
     "iopub.status.busy": "2021-10-07T10:00:42.828907Z",
     "iopub.status.idle": "2021-10-07T10:00:43.051596Z",
     "shell.execute_reply": "2021-10-07T10:00:43.051099Z"
    }
   },
   "outputs": [
    {
     "data": {
      "text/plain": [
       "Text(0, 0.5, 'Learning rate')"
      ]
     },
     "execution_count": 5,
     "metadata": {},
     "output_type": "execute_result"
    },
    {
     "data": {
      "image/png": "[encoded data removed]",
      "text/plain": [
       "<Figure size 864x216 with 2 Axes>"
      ]
     },
     "metadata": {
      "needs_background": "light"
     },
     "output_type": "display_data"
    }
   ],
   "source": [
    "fig, (ax1, ax2) = plt.subplots(1, 2, figsize=(12, 3))\n",
    "ax1.plot(history.history[\"loss\"])\n",
    "ax1.set_xlabel(\"Iteration\")\n",
    "ax1.set_ylabel(\"Objective = neg. ELBO\")\n",
    "\n",
    "ax2.plot(history.history[\"lr\"])\n",
    "ax2.set_xlabel(\"Iteration\")\n",
    "ax2.set_ylabel(\"Learning rate\")"
   ]
  },
  {
   "cell_type": "markdown",
   "id": "fd7d8b50",
   "metadata": {
    "cell_marker": "\"\"\""
   },
   "source": [
    "More insightful, however, are the TensorBoard logs. They contain the objective and hyperparameters over the course of optimisation. This can be very handy to find out why things work or don't :D. The logs can be viewed in TensorBoard by running in the command line\n",
    "```\n",
    "$ tensorboard --logdir logs\n",
    "```"
   ]
  },
  {
   "cell_type": "code",
   "execution_count": 6,
   "id": "1174fa26",
   "metadata": {
    "execution": {
     "iopub.execute_input": "2021-10-07T10:00:43.060338Z",
     "iopub.status.busy": "2021-10-07T10:00:43.059342Z",
     "iopub.status.idle": "2021-10-07T10:00:43.725243Z",
     "shell.execute_reply": "2021-10-07T10:00:43.725611Z"
    }
   },
   "outputs": [
    {
     "data": {
      "image/png": "[encoded data removed]",
      "text/plain": [
       "<Figure size 432x288 with 1 Axes>"
      ]
     },
     "metadata": {
      "needs_background": "light"
     },
     "output_type": "display_data"
    }
   ],
   "source": [
    "def plot(model, X, Y, ax=None):\n",
    "    if ax is None:\n",
    "        fig, ax = plt.subplots()\n",
    "\n",
    "    x_margin = 1.0\n",
    "    N_test = 100\n",
    "    X_test = np.linspace(X.min() - x_margin, X.max() + x_margin, N_test).reshape(-1, 1)\n",
    "    out = model(X_test)\n",
    "\n",
    "    mu = out.f_mean.numpy().squeeze()\n",
    "    var = out.f_var.numpy().squeeze()\n",
    "    X_test = X_test.squeeze()\n",
    "    lower = mu - 2 * np.sqrt(var)\n",
    "    upper = mu + 2 * np.sqrt(var)\n",
    "\n",
    "    ax.set_ylim(Y.min() - 0.5, Y.max() + 0.5)\n",
    "    ax.plot(X, Y, \"kx\", alpha=0.5)\n",
    "    ax.plot(X_test, mu, \"C1\")\n",
    "\n",
    "    ax.fill_between(X_test, lower, upper, color=\"C1\", alpha=0.3)\n",
    "\n",
    "\n",
    "prediction_model = deep_gp.as_prediction_model()\n",
    "plot(prediction_model, X, Y)"
   ]
  },
  {
   "cell_type": "markdown",
   "id": "ae1117c4",
   "metadata": {
    "cell_marker": "\"\"\""
   },
   "source": [
    "## Post-training: saving, loading, and serving the model\n",
    "\n",
    "We can store the weights and reload them afterwards."
   ]
  },
  {
   "cell_type": "code",
   "execution_count": 7,
   "id": "2da77c20",
   "metadata": {
    "execution": {
     "iopub.execute_input": "2021-10-07T10:00:43.743366Z",
     "iopub.status.busy": "2021-10-07T10:00:43.728928Z",
     "iopub.status.idle": "2021-10-07T10:00:43.748865Z",
     "shell.execute_reply": "2021-10-07T10:00:43.748487Z"
    }
   },
   "outputs": [],
   "source": [
    "prediction_model.save_weights(\"weights\")"
   ]
  },
  {
   "cell_type": "code",
   "execution_count": 8,
   "id": "d311094b",
   "metadata": {
    "execution": {
     "iopub.execute_input": "2021-10-07T10:00:43.754048Z",
     "iopub.status.busy": "2021-10-07T10:00:43.753619Z",
     "iopub.status.idle": "2021-10-07T10:00:44.327162Z",
     "shell.execute_reply": "2021-10-07T10:00:44.326774Z"
    }
   },
   "outputs": [
    {
     "data": {
      "text/plain": [
       "<tensorflow.python.training.tracking.util.CheckpointLoadStatus at 0x7fc879646110>"
      ]
     },
     "execution_count": 8,
     "metadata": {},
     "output_type": "execute_result"
    }
   ],
   "source": [
    "prediction_model_new = build_constant_input_dim_deep_gp(\n",
    "    X, num_layers=2, config=config\n",
    ").as_prediction_model()\n",
    "prediction_model_new.load_weights(\"weights\")"
   ]
  },
  {
   "cell_type": "code",
   "execution_count": 9,
   "id": "679c5d81",
   "metadata": {
    "execution": {
     "iopub.execute_input": "2021-10-07T10:00:44.349724Z",
     "iopub.status.busy": "2021-10-07T10:00:44.344984Z",
     "iopub.status.idle": "2021-10-07T10:00:44.509626Z",
     "shell.execute_reply": "2021-10-07T10:00:44.510019Z"
    }
   },
   "outputs": [
    {
     "data": {
      "image/png": "[encoded data removed]",
      "text/plain": [
       "<Figure size 432x288 with 1 Axes>"
      ]
     },
     "metadata": {
      "needs_background": "light"
     },
     "output_type": "display_data"
    }
   ],
   "source": [
    "plot(prediction_model_new, X, Y)"
   ]
  },
  {
   "cell_type": "markdown",
   "id": "f31a44eb",
   "metadata": {
    "cell_marker": "\"\"\""
   },
   "source": [
    "Indeed, this prediction corresponds to the one of the original model."
   ]
  }
 ],
 "metadata": {
  "jupytext": {
   "cell_markers": "\"\"\""
  },
  "kernelspec": {
   "display_name": "Python 3",
   "language": "python",
   "name": "python3"
  },
  "language_info": {
   "codemirror_mode": {
    "name": "ipython",
    "version": 3
   },
   "file_extension": ".py",
   "mimetype": "text/x-python",
   "name": "python",
   "nbconvert_exporter": "python",
   "pygments_lexer": "ipython3",
   "version": "3.7.12"
  }
 },
 "nbformat": 4,
 "nbformat_minor": 5
}
